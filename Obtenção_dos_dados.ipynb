{
  "nbformat": 4,
  "nbformat_minor": 0,
  "metadata": {
    "colab": {
      "name": "Obtenção dos dados.ipynb",
      "provenance": [],
      "toc_visible": true,
      "authorship_tag": "ABX9TyP5XxAdKqqbqibiHnkExxlj",
      "include_colab_link": true
    },
    "kernelspec": {
      "name": "python3",
      "display_name": "Python 3"
    },
    "language_info": {
      "name": "python"
    }
  },
  "cells": [
    {
      "cell_type": "markdown",
      "metadata": {
        "id": "view-in-github",
        "colab_type": "text"
      },
      "source": [
        "<a href=\"https://colab.research.google.com/github/YasminForestti/Processo-seletivo-Analytica-2022/blob/main/Obten%C3%A7%C3%A3o_dos_dados.ipynb\" target=\"_parent\"><img src=\"https://colab.research.google.com/assets/colab-badge.svg\" alt=\"Open In Colab\"/></a>"
      ]
    },
    {
      "cell_type": "markdown",
      "source": [
        "## **1)** Importação das bibliotecas"
      ],
      "metadata": {
        "id": "7h9xCoBhYhq1"
      }
    },
    {
      "cell_type": "code",
      "source": [
        "import pandas as pd\n",
        "import basedosdados as bd"
      ],
      "metadata": {
        "id": "CeoyTfB1cKPO"
      },
      "execution_count": 3,
      "outputs": []
    },
    {
      "cell_type": "markdown",
      "source": [
        "## **2)** Baixando os Bancos de Dados\n",
        "Os banco de dados foram baixados e colocados no ambiente do Colab"
      ],
      "metadata": {
        "id": "99gXtC5DYqal"
      }
    },
    {
      "cell_type": "code",
      "execution_count": 11,
      "metadata": {
        "id": "gsiLSKizbxQF"
      },
      "outputs": [],
      "source": [
        "raca_cor = pd.read_csv(\"/raca_cor.csv\")\n",
        "brasil = pd.read_csv(\"/brasil.csv\")\n",
        "causa_obito = pd.read_csv(\"/causa_obito.csv\")\n",
        "grupo_lgbtqia = pd.read_csv(\"/grupo_lgbtqia.csv\")\n",
        "local = pd.read_csv(\"/local.csv\")"
      ]
    }
  ]
}