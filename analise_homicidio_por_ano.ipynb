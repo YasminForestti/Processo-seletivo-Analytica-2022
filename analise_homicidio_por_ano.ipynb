{
  "nbformat": 4,
  "nbformat_minor": 0,
  "metadata": {
    "colab": {
      "name": "analise homicidio por ano.ipynb",
      "provenance": [],
      "authorship_tag": "ABX9TyNiB47n0SNrmqbok9LQIfLE",
      "include_colab_link": true
    },
    "kernelspec": {
      "name": "python3",
      "display_name": "Python 3"
    },
    "language_info": {
      "name": "python"
    }
  },
  "cells": [
    {
      "cell_type": "markdown",
      "metadata": {
        "id": "view-in-github",
        "colab_type": "text"
      },
      "source": [
        "<a href=\"https://colab.research.google.com/github/YasminForestti/Processo-seletivo-Analytica-2022/blob/main/analise_homicidio_por_ano.ipynb\" target=\"_parent\"><img src=\"https://colab.research.google.com/assets/colab-badge.svg\" alt=\"Open In Colab\"/></a>"
      ]
    },
    {
      "cell_type": "markdown",
      "source": [
        "##**1)** Importação das bibliotecas e bases de dados"
      ],
      "metadata": {
        "id": "01RnRFC-YnSJ"
      }
    },
    {
      "cell_type": "code",
      "source": [
        "import pandas as pd\n",
        "import numpy as np\n",
        "import matplotlib.pyplot as plt"
      ],
      "metadata": {
        "id": "CeoyTfB1cKPO"
      },
      "execution_count": 3,
      "outputs": []
    },
    {
      "cell_type": "code",
      "source": [
        "brasil = pd.read_csv(\"/brasil.csv\")\n",
        "homicidios= np.array(brasil['homicidios'])\n",
        "data = {\n",
        "    'Homicidio': homicidios\n",
        "}\n",
        "data\n",
        "df_brasil = pd.DataFrame(data, index= brasil['ano'])\n"
      ],
      "metadata": {
        "id": "NQ1BGOvrYLYI"
      },
      "execution_count": 24,
      "outputs": []
    },
    {
      "cell_type": "code",
      "source": [
        "data = {\n",
        "    'Homicidio': homicidios\n",
        "}\n",
        "data\n",
        "df_brasil = pd.DataFrame(data, index= brasil['ano'])"
      ],
      "metadata": {
        "id": "3NbmodrtH-HS"
      },
      "execution_count": 67,
      "outputs": []
    },
    {
      "cell_type": "code",
      "source": [
        "colors=[\"#f94144\",\"#f3722c\",\"#f8961e\",\"#f9c74f\",\"#90be6d\",\"#43aa8b\",\"#577590\"]"
      ],
      "metadata": {
        "id": "Et0epHLGKiTC"
      },
      "execution_count": 21,
      "outputs": []
    },
    {
      "cell_type": "markdown",
      "source": [
        "##**2)** Número de homicídio por ano "
      ],
      "metadata": {
        "id": "q2QJ3mZkYld5"
      }
    },
    {
      "cell_type": "code",
      "source": [
        "Media_homicidio_ano = sum(brasil['homicidios'])/len(brasil)\n",
        "Media_homicidio_vetor = [Media_homicidio_ano]*20"
      ],
      "metadata": {
        "id": "i_66nwf7phAn"
      },
      "execution_count": 10,
      "outputs": []
    },
    {
      "cell_type": "code",
      "source": [
        "df_brasil.plot(kind = 'bar', color= \"#43aa8b\", width = 0.6, figsize = (10,6), )\n",
        "plt.plot(Media_homicidio_vetor, '--' ,color = 'Black')\n",
        "plt.xticks(rotation=0)\n",
        "plt.xlim([0, 19]) \n",
        "plt.xlabel('Ano')\n",
        "plt.ylabel('Número de homicídios')\n",
        "plt.title(\"Número de homicídios por ano\")"
      ],
      "metadata": {
        "colab": {
          "base_uri": "https://localhost:8080/",
          "height": 421
        },
        "id": "ZYf165jvg1f7",
        "outputId": "527ccd5d-213d-4157-97d1-f4478dd8e115"
      },
      "execution_count": 62,
      "outputs": [
        {
          "output_type": "execute_result",
          "data": {
            "text/plain": [
              "Text(0.5, 1.0, 'Número de homicídios por ano')"
            ]
          },
          "metadata": {},
          "execution_count": 62
        },
        {
          "output_type": "display_data",
          "data": {
            "text/plain": [
              "<Figure size 720x432 with 1 Axes>"
            ],
            "image/png": "[encoded data removed]"
          },
          "metadata": {
            "needs_background": "light"
          }
        }
      ]
    },
    {
      "cell_type": "markdown",
      "source": [
        "##**3)** Análise das médias de  homicídios por governo"
      ],
      "metadata": {
        "id": "KZMRBcgjKTMI"
      }
    },
    {
      "cell_type": "code",
      "source": [
        "homicidios = brasil['homicidios']\n",
        "Primeiro_Gov_Lula = sum(homicidios[x] for x in range(3,7))/4\n",
        "Segundo_Gov_Lula = sum(homicidios[x] for x in range(7,11))/4\n",
        "Primeiro_Gov_Dilma = sum(homicidios[x] for x in range(11,15))/4\n",
        "Segundo_Gov_Dilma = sum(homicidios[x] for x in range(15,17))/2\n",
        "Governo_provisorio = homicidios[17]\n",
        "Metade_Governo_Bolsonaro = sum(homicidios[x] for x in range(18,20))/2\n",
        "Media_homicidio_goveno = [Primeiro_Gov_Lula,Segundo_Gov_Lula, Primeiro_Gov_Dilma,Segundo_Gov_Dilma, Governo_provisorio,Metade_Governo_Bolsonaro]\n"
      ],
      "metadata": {
        "id": "i84One-nQHcX"
      },
      "execution_count": 65,
      "outputs": []
    },
    {
      "cell_type": "code",
      "source": [
        "Variação_homicidios_Gov_anterior = [0]*6\n",
        "for i in range(0,6):\n",
        "  if i == 0: \n",
        "    Variação_homicidios_Gov_anterior[i] = '-'\n",
        "  else:  \n",
        "    Variação_homicidios_Gov_anterior[i] = ((Media_homicidio_goveno[i] - Media_homicidio_goveno[i-1])/Media_homicidio_goveno[i-1])"
      ],
      "metadata": {
        "id": "LRRZsl2c5f3F"
      },
      "execution_count": 66,
      "outputs": []
    },
    {
      "cell_type": "code",
      "source": [
        "data = {\n",
        "    'Media de homicídios' : Media_homicidio_goveno,\n",
        "    'Variação percentual da média de homicidios': Variação_homicidios_Gov_anterior\n",
        "}\n",
        "df_Media_homicidio = pd.DataFrame(data, index=['2003-2006','2007-20010','2011-2014','2014-2016','2017','2018-2019'])\n",
        "print(df_Media_homicidio)"
      ],
      "metadata": {
        "colab": {
          "base_uri": "https://localhost:8080/"
        },
        "id": "CEz9XYWlDUo1",
        "outputId": "b9d4c75b-a693-4f22-f043-f54224affd7a"
      },
      "execution_count": 63,
      "outputs": [
        {
          "output_type": "stream",
          "name": "stdout",
          "text": [
            "            Media de homicídios Variação percentual da média de homicidios\n",
            "2003-2006                132.50                                          -\n",
            "2007-20010               197.00                                   0.486792\n",
            "2011-2014                311.75                                   0.582487\n",
            "2014-2016                331.00                                   0.061748\n",
            "2017                     445.00                                   0.344411\n",
            "2018-2019                374.50                                  -0.158427\n"
          ]
        }
      ]
    },
    {
      "cell_type": "code",
      "source": [
        "df_Media_homicidio.plot(kind = 'bar', color= colors, width = 0.6, figsize = (10,6), )\n",
        "plt.xticks(rotation=0)\n",
        "plt.xlim([0, 5]) \n",
        "plt.xlabel('Governo')\n",
        "plt.ylabel('Número de homicídios')\n",
        "plt.title(\"Média de homicídios por Governo\")"
      ],
      "metadata": {
        "colab": {
          "base_uri": "https://localhost:8080/",
          "height": 421
        },
        "id": "VKwXPL2ZDAdW",
        "outputId": "db303057-e4b4-4491-fdb6-097f2ddcd131"
      },
      "execution_count": 46,
      "outputs": [
        {
          "output_type": "execute_result",
          "data": {
            "text/plain": [
              "Text(0.5, 1.0, 'Média de homicídios por Governo')"
            ]
          },
          "metadata": {},
          "execution_count": 46
        },
        {
          "output_type": "display_data",
          "data": {
            "text/plain": [
              "<Figure size 720x432 with 1 Axes>"
            ],
            "image/png": "[encoded data removed]"
          },
          "metadata": {
            "needs_background": "light"
          }
        }
      ]
    },
    {
      "cell_type": "code",
      "source": [
        "desvio_padrao_gov = np.std(Media_homicidio_goveno)\n",
        "Coeficiente_variação_gov = (desvio_padrao_gov*100)/Media_homicidio_ano\n",
        "print(Coeficiente_variação_gov)"
      ],
      "metadata": {
        "colab": {
          "base_uri": "https://localhost:8080/"
        },
        "id": "krDrDs5K0G60",
        "outputId": "6bced50d-b002-45f5-dbd8-c44ea9df092a"
      },
      "execution_count": 64,
      "outputs": [
        {
          "output_type": "stream",
          "name": "stdout",
          "text": [
            "43.7269071793057\n"
          ]
        }
      ]
    }
  ]
}