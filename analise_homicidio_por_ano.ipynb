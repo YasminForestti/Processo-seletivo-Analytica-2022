{
  "nbformat": 4,
  "nbformat_minor": 0,
  "metadata": {
    "colab": {
      "name": "analise homicidio por ano.ipynb",
      "provenance": [],
      "authorship_tag": "ABX9TyNWdEAXAvOCo/sSJYWvpHtU",
      "include_colab_link": true
    },
    "kernelspec": {
      "name": "python3",
      "display_name": "Python 3"
    },
    "language_info": {
      "name": "python"
    }
  },
  "cells": [
    {
      "cell_type": "markdown",
      "metadata": {
        "id": "view-in-github",
        "colab_type": "text"
      },
      "source": [
        "<a href=\"https://colab.research.google.com/github/YasminForestti/Processo-seletivo-Analytica-2022/blob/main/analise_homicidio_por_ano.ipynb\" target=\"_parent\"><img src=\"https://colab.research.google.com/assets/colab-badge.svg\" alt=\"Open In Colab\"/></a>"
      ]
    },
    {
      "cell_type": "markdown",
      "source": [
        "##**1)** Importação das bibliotecas e bases de dados"
      ],
      "metadata": {
        "id": "01RnRFC-YnSJ"
      }
    },
    {
      "cell_type": "code",
      "source": [
        "import pandas as pd\n",
        "import numpy as np\n",
        "import matplotlib.pyplot as plt"
      ],
      "metadata": {
        "id": "CeoyTfB1cKPO"
      },
      "execution_count": 3,
      "outputs": []
    },
    {
      "cell_type": "code",
      "source": [
        "brasil = pd.read_csv(\"/brasil.csv\")"
      ],
      "metadata": {
        "id": "NQ1BGOvrYLYI"
      },
      "execution_count": 5,
      "outputs": []
    },
    {
      "cell_type": "markdown",
      "source": [
        "##**2)** Número de homicídio por ano "
      ],
      "metadata": {
        "id": "q2QJ3mZkYld5"
      }
    },
    {
      "cell_type": "code",
      "source": [
        "colors=[\"#f94144\",\"#f3722c\",\"#f8961e\",\"#f9c74f\",\"#90be6d\",\"#43aa8b\",\"#577590\"]"
      ],
      "metadata": {
        "id": "Et0epHLGKiTC",
        "colab": {
          "base_uri": "https://localhost:8080/"
        },
        "outputId": "4143dbb6-8899-4ae7-902a-4650412a313b"
      },
      "execution_count": 1,
      "outputs": [
        {
          "output_type": "execute_result",
          "data": {
            "text/plain": [
              "['#f94144', '#f3722c', '#f8961e', '#f9c74f', '#90be6d', '#43aa8b', '#577590']"
            ]
          },
          "metadata": {},
          "execution_count": 1
        }
      ]
    },
    {
      "cell_type": "code",
      "source": [
        "Media_homicidio_ano = sum(brasil['homicidios'])/len(brasil)\n",
        "Media_homicidio_vetor = [Media_homicidio_ano]*20\n"
      ],
      "metadata": {
        "id": "i_66nwf7phAn"
      },
      "execution_count": 10,
      "outputs": []
    },
    {
      "cell_type": "code",
      "source": [
        "brasil['homicidios'].plot(kind = 'bar', color= colors, width = 0.6, figsize = (10,6), )\n",
        "plt.plot(Media_homicidio_vetor, '--' ,color = 'Black')\n",
        "plt.xticks(rotation=0)\n",
        "plt.xlim([0, 19]) \n",
        "plt.xlabel('Ano')\n",
        "plt.ylabel('Número de homicídios')\n",
        "plt.title(\"Número de homicídios por ano\")"
      ],
      "metadata": {
        "colab": {
          "base_uri": "https://localhost:8080/",
          "height": 421
        },
        "id": "ZYf165jvg1f7",
        "outputId": "0d4c9390-a7bf-4b4f-88ea-9d69a855b7d6"
      },
      "execution_count": 15,
      "outputs": [
        {
          "output_type": "execute_result",
          "data": {
            "text/plain": [
              "Text(0.5, 1.0, 'Número de homicídios por ano')"
            ]
          },
          "metadata": {},
          "execution_count": 15
        },
        {
          "output_type": "display_data",
          "data": {
            "text/plain": [
              "<Figure size 720x432 with 1 Axes>"
            ],
            "image/png": "[encoded data removed]"
          },
          "metadata": {
            "needs_background": "light"
          }
        }
      ]
    },
    {
      "cell_type": "code",
      "source": [
        ""
      ],
      "metadata": {
        "id": "i84One-nQHcX"
      },
      "execution_count": null,
      "outputs": []
    }
  ]
}